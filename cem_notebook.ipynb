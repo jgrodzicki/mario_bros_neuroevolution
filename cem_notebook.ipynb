{
  "nbformat": 4,
  "nbformat_minor": 0,
  "metadata": {
    "colab": {
      "name": "Mario Bros Neuroevolution - CEM",
      "provenance": [],
      "collapsed_sections": []
    },
    "kernelspec": {
      "display_name": "Python 3",
      "name": "python3"
    },
    "widgets": {
      "application/vnd.jupyter.widget-state+json": {
        "7847560d74cb4b5c976d0b37a85488d4": {
          "model_module": "@jupyter-widgets/controls",
          "model_name": "HBoxModel",
          "state": {
            "_view_name": "HBoxView",
            "_dom_classes": [],
            "_model_name": "HBoxModel",
            "_view_module": "@jupyter-widgets/controls",
            "_model_module_version": "1.5.0",
            "_view_count": null,
            "_view_module_version": "1.5.0",
            "box_style": "",
            "layout": "IPY_MODEL_76dbdd9ff36241c5bd784998431d301c",
            "_model_module": "@jupyter-widgets/controls",
            "children": [
              "IPY_MODEL_fa044e07b3a2492e8db71ee3e3e46d0c",
              "IPY_MODEL_f71b3accc3564d4dac78ccd7dca68a5f",
              "IPY_MODEL_cd4d3ecc59c044bd82b10b6fb9b4b3dd"
            ]
          }
        },
        "76dbdd9ff36241c5bd784998431d301c": {
          "model_module": "@jupyter-widgets/base",
          "model_name": "LayoutModel",
          "state": {
            "_view_name": "LayoutView",
            "grid_template_rows": null,
            "right": null,
            "justify_content": null,
            "_view_module": "@jupyter-widgets/base",
            "overflow": null,
            "_model_module_version": "1.2.0",
            "_view_count": null,
            "flex_flow": null,
            "width": null,
            "min_width": null,
            "border": null,
            "align_items": null,
            "bottom": null,
            "_model_module": "@jupyter-widgets/base",
            "top": null,
            "grid_column": null,
            "overflow_y": null,
            "overflow_x": null,
            "grid_auto_flow": null,
            "grid_area": null,
            "grid_template_columns": null,
            "flex": null,
            "_model_name": "LayoutModel",
            "justify_items": null,
            "grid_row": null,
            "max_height": null,
            "align_content": null,
            "visibility": null,
            "align_self": null,
            "height": null,
            "min_height": null,
            "padding": null,
            "grid_auto_rows": null,
            "grid_gap": null,
            "max_width": null,
            "order": null,
            "_view_module_version": "1.2.0",
            "grid_template_areas": null,
            "object_position": null,
            "object_fit": null,
            "grid_auto_columns": null,
            "margin": null,
            "display": null,
            "left": null
          }
        },
        "fa044e07b3a2492e8db71ee3e3e46d0c": {
          "model_module": "@jupyter-widgets/controls",
          "model_name": "HTMLModel",
          "state": {
            "_view_name": "HTMLView",
            "style": "IPY_MODEL_6fd7e82ba58549a28bc6c97f318b5405",
            "_dom_classes": [],
            "description": "",
            "_model_name": "HTMLModel",
            "placeholder": "​",
            "_view_module": "@jupyter-widgets/controls",
            "_model_module_version": "1.5.0",
            "value": "Training:  95%",
            "_view_count": null,
            "_view_module_version": "1.5.0",
            "description_tooltip": null,
            "_model_module": "@jupyter-widgets/controls",
            "layout": "IPY_MODEL_8c7e5a6d15e1499b827a2594b97b022d"
          }
        },
        "f71b3accc3564d4dac78ccd7dca68a5f": {
          "model_module": "@jupyter-widgets/controls",
          "model_name": "FloatProgressModel",
          "state": {
            "_view_name": "ProgressView",
            "style": "IPY_MODEL_fcb3be25c1cf4293885052ef4e36c566",
            "_dom_classes": [],
            "description": "",
            "_model_name": "FloatProgressModel",
            "bar_style": "",
            "max": 1000,
            "_view_module": "@jupyter-widgets/controls",
            "_model_module_version": "1.5.0",
            "value": 948,
            "_view_count": null,
            "_view_module_version": "1.5.0",
            "orientation": "horizontal",
            "min": 0,
            "description_tooltip": null,
            "_model_module": "@jupyter-widgets/controls",
            "layout": "IPY_MODEL_92624dccbde04cbdba2ee910f2f70caa"
          }
        },
        "cd4d3ecc59c044bd82b10b6fb9b4b3dd": {
          "model_module": "@jupyter-widgets/controls",
          "model_name": "HTMLModel",
          "state": {
            "_view_name": "HTMLView",
            "style": "IPY_MODEL_7b12531b0540455c885276f50187c097",
            "_dom_classes": [],
            "description": "",
            "_model_name": "HTMLModel",
            "placeholder": "​",
            "_view_module": "@jupyter-widgets/controls",
            "_model_module_version": "1.5.0",
            "value": " 948/1000 [00:16&lt;00:00, 541.82it/s]",
            "_view_count": null,
            "_view_module_version": "1.5.0",
            "description_tooltip": null,
            "_model_module": "@jupyter-widgets/controls",
            "layout": "IPY_MODEL_3eae198ce423424bb635b717ac9f34a5"
          }
        },
        "6fd7e82ba58549a28bc6c97f318b5405": {
          "model_module": "@jupyter-widgets/controls",
          "model_name": "DescriptionStyleModel",
          "state": {
            "_view_name": "StyleView",
            "_model_name": "DescriptionStyleModel",
            "description_width": "",
            "_view_module": "@jupyter-widgets/base",
            "_model_module_version": "1.5.0",
            "_view_count": null,
            "_view_module_version": "1.2.0",
            "_model_module": "@jupyter-widgets/controls"
          }
        },
        "8c7e5a6d15e1499b827a2594b97b022d": {
          "model_module": "@jupyter-widgets/base",
          "model_name": "LayoutModel",
          "state": {
            "_view_name": "LayoutView",
            "grid_template_rows": null,
            "right": null,
            "justify_content": null,
            "_view_module": "@jupyter-widgets/base",
            "overflow": null,
            "_model_module_version": "1.2.0",
            "_view_count": null,
            "flex_flow": null,
            "width": null,
            "min_width": null,
            "border": null,
            "align_items": null,
            "bottom": null,
            "_model_module": "@jupyter-widgets/base",
            "top": null,
            "grid_column": null,
            "overflow_y": null,
            "overflow_x": null,
            "grid_auto_flow": null,
            "grid_area": null,
            "grid_template_columns": null,
            "flex": null,
            "_model_name": "LayoutModel",
            "justify_items": null,
            "grid_row": null,
            "max_height": null,
            "align_content": null,
            "visibility": null,
            "align_self": null,
            "height": null,
            "min_height": null,
            "padding": null,
            "grid_auto_rows": null,
            "grid_gap": null,
            "max_width": null,
            "order": null,
            "_view_module_version": "1.2.0",
            "grid_template_areas": null,
            "object_position": null,
            "object_fit": null,
            "grid_auto_columns": null,
            "margin": null,
            "display": null,
            "left": null
          }
        },
        "fcb3be25c1cf4293885052ef4e36c566": {
          "model_module": "@jupyter-widgets/controls",
          "model_name": "ProgressStyleModel",
          "state": {
            "_view_name": "StyleView",
            "_model_name": "ProgressStyleModel",
            "description_width": "",
            "_view_module": "@jupyter-widgets/base",
            "_model_module_version": "1.5.0",
            "_view_count": null,
            "_view_module_version": "1.2.0",
            "bar_color": null,
            "_model_module": "@jupyter-widgets/controls"
          }
        },
        "92624dccbde04cbdba2ee910f2f70caa": {
          "model_module": "@jupyter-widgets/base",
          "model_name": "LayoutModel",
          "state": {
            "_view_name": "LayoutView",
            "grid_template_rows": null,
            "right": null,
            "justify_content": null,
            "_view_module": "@jupyter-widgets/base",
            "overflow": null,
            "_model_module_version": "1.2.0",
            "_view_count": null,
            "flex_flow": null,
            "width": null,
            "min_width": null,
            "border": null,
            "align_items": null,
            "bottom": null,
            "_model_module": "@jupyter-widgets/base",
            "top": null,
            "grid_column": null,
            "overflow_y": null,
            "overflow_x": null,
            "grid_auto_flow": null,
            "grid_area": null,
            "grid_template_columns": null,
            "flex": null,
            "_model_name": "LayoutModel",
            "justify_items": null,
            "grid_row": null,
            "max_height": null,
            "align_content": null,
            "visibility": null,
            "align_self": null,
            "height": null,
            "min_height": null,
            "padding": null,
            "grid_auto_rows": null,
            "grid_gap": null,
            "max_width": null,
            "order": null,
            "_view_module_version": "1.2.0",
            "grid_template_areas": null,
            "object_position": null,
            "object_fit": null,
            "grid_auto_columns": null,
            "margin": null,
            "display": null,
            "left": null
          }
        },
        "7b12531b0540455c885276f50187c097": {
          "model_module": "@jupyter-widgets/controls",
          "model_name": "DescriptionStyleModel",
          "state": {
            "_view_name": "StyleView",
            "_model_name": "DescriptionStyleModel",
            "description_width": "",
            "_view_module": "@jupyter-widgets/base",
            "_model_module_version": "1.5.0",
            "_view_count": null,
            "_view_module_version": "1.2.0",
            "_model_module": "@jupyter-widgets/controls"
          }
        },
        "3eae198ce423424bb635b717ac9f34a5": {
          "model_module": "@jupyter-widgets/base",
          "model_name": "LayoutModel",
          "state": {
            "_view_name": "LayoutView",
            "grid_template_rows": null,
            "right": null,
            "justify_content": null,
            "_view_module": "@jupyter-widgets/base",
            "overflow": null,
            "_model_module_version": "1.2.0",
            "_view_count": null,
            "flex_flow": null,
            "width": null,
            "min_width": null,
            "border": null,
            "align_items": null,
            "bottom": null,
            "_model_module": "@jupyter-widgets/base",
            "top": null,
            "grid_column": null,
            "overflow_y": null,
            "overflow_x": null,
            "grid_auto_flow": null,
            "grid_area": null,
            "grid_template_columns": null,
            "flex": null,
            "_model_name": "LayoutModel",
            "justify_items": null,
            "grid_row": null,
            "max_height": null,
            "align_content": null,
            "visibility": null,
            "align_self": null,
            "height": null,
            "min_height": null,
            "padding": null,
            "grid_auto_rows": null,
            "grid_gap": null,
            "max_width": null,
            "order": null,
            "_view_module_version": "1.2.0",
            "grid_template_areas": null,
            "object_position": null,
            "object_fit": null,
            "grid_auto_columns": null,
            "margin": null,
            "display": null,
            "left": null
          }
        },
        "a308784fd714430c97a1d62e5830c862": {
          "model_module": "@jupyter-widgets/controls",
          "model_name": "HBoxModel",
          "state": {
            "_view_name": "HBoxView",
            "_dom_classes": [],
            "_model_name": "HBoxModel",
            "_view_module": "@jupyter-widgets/controls",
            "_model_module_version": "1.5.0",
            "_view_count": null,
            "_view_module_version": "1.5.0",
            "box_style": "",
            "layout": "IPY_MODEL_6ffb260d401c4528b8f8b1347fddd012",
            "_model_module": "@jupyter-widgets/controls",
            "children": [
              "IPY_MODEL_89c5705db81f481daa51f313a57d9b46",
              "IPY_MODEL_e1b877d657784421a2e22080413bc7a4",
              "IPY_MODEL_d4bd5b4e6d044f4fb125c711d1a06006"
            ]
          }
        },
        "6ffb260d401c4528b8f8b1347fddd012": {
          "model_module": "@jupyter-widgets/base",
          "model_name": "LayoutModel",
          "state": {
            "_view_name": "LayoutView",
            "grid_template_rows": null,
            "right": null,
            "justify_content": null,
            "_view_module": "@jupyter-widgets/base",
            "overflow": null,
            "_model_module_version": "1.2.0",
            "_view_count": null,
            "flex_flow": null,
            "width": null,
            "min_width": null,
            "border": null,
            "align_items": null,
            "bottom": null,
            "_model_module": "@jupyter-widgets/base",
            "top": null,
            "grid_column": null,
            "overflow_y": null,
            "overflow_x": null,
            "grid_auto_flow": null,
            "grid_area": null,
            "grid_template_columns": null,
            "flex": null,
            "_model_name": "LayoutModel",
            "justify_items": null,
            "grid_row": null,
            "max_height": null,
            "align_content": null,
            "visibility": null,
            "align_self": null,
            "height": null,
            "min_height": null,
            "padding": null,
            "grid_auto_rows": null,
            "grid_gap": null,
            "max_width": null,
            "order": null,
            "_view_module_version": "1.2.0",
            "grid_template_areas": null,
            "object_position": null,
            "object_fit": null,
            "grid_auto_columns": null,
            "margin": null,
            "display": null,
            "left": null
          }
        },
        "89c5705db81f481daa51f313a57d9b46": {
          "model_module": "@jupyter-widgets/controls",
          "model_name": "HTMLModel",
          "state": {
            "_view_name": "HTMLView",
            "style": "IPY_MODEL_8eb206de16ef4dd08ce4a335e17f195c",
            "_dom_classes": [],
            "description": "",
            "_model_name": "HTMLModel",
            "placeholder": "​",
            "_view_module": "@jupyter-widgets/controls",
            "_model_module_version": "1.5.0",
            "value": "Evaluating:  12%",
            "_view_count": null,
            "_view_module_version": "1.5.0",
            "description_tooltip": null,
            "_model_module": "@jupyter-widgets/controls",
            "layout": "IPY_MODEL_5e71393d215c4636a8a9a904c2f40de9"
          }
        },
        "e1b877d657784421a2e22080413bc7a4": {
          "model_module": "@jupyter-widgets/controls",
          "model_name": "FloatProgressModel",
          "state": {
            "_view_name": "ProgressView",
            "style": "IPY_MODEL_353bda5f93794fca82adf2569c47059f",
            "_dom_classes": [],
            "description": "",
            "_model_name": "FloatProgressModel",
            "bar_style": "",
            "max": 200,
            "_view_module": "@jupyter-widgets/controls",
            "_model_module_version": "1.5.0",
            "value": 25,
            "_view_count": null,
            "_view_module_version": "1.5.0",
            "orientation": "horizontal",
            "min": 0,
            "description_tooltip": null,
            "_model_module": "@jupyter-widgets/controls",
            "layout": "IPY_MODEL_9cdfcf94c1864c15996f374537559f0a"
          }
        },
        "d4bd5b4e6d044f4fb125c711d1a06006": {
          "model_module": "@jupyter-widgets/controls",
          "model_name": "HTMLModel",
          "state": {
            "_view_name": "HTMLView",
            "style": "IPY_MODEL_0a5127ffedb64471afa08674a7f4d2c6",
            "_dom_classes": [],
            "description": "",
            "_model_name": "HTMLModel",
            "placeholder": "​",
            "_view_module": "@jupyter-widgets/controls",
            "_model_module_version": "1.5.0",
            "value": " 25/200 [07:37&lt;51:47, 17.76s/it]",
            "_view_count": null,
            "_view_module_version": "1.5.0",
            "description_tooltip": null,
            "_model_module": "@jupyter-widgets/controls",
            "layout": "IPY_MODEL_60fd116b93a84209b5fe313bc7b0686a"
          }
        },
        "8eb206de16ef4dd08ce4a335e17f195c": {
          "model_module": "@jupyter-widgets/controls",
          "model_name": "DescriptionStyleModel",
          "state": {
            "_view_name": "StyleView",
            "_model_name": "DescriptionStyleModel",
            "description_width": "",
            "_view_module": "@jupyter-widgets/base",
            "_model_module_version": "1.5.0",
            "_view_count": null,
            "_view_module_version": "1.2.0",
            "_model_module": "@jupyter-widgets/controls"
          }
        },
        "5e71393d215c4636a8a9a904c2f40de9": {
          "model_module": "@jupyter-widgets/base",
          "model_name": "LayoutModel",
          "state": {
            "_view_name": "LayoutView",
            "grid_template_rows": null,
            "right": null,
            "justify_content": null,
            "_view_module": "@jupyter-widgets/base",
            "overflow": null,
            "_model_module_version": "1.2.0",
            "_view_count": null,
            "flex_flow": null,
            "width": null,
            "min_width": null,
            "border": null,
            "align_items": null,
            "bottom": null,
            "_model_module": "@jupyter-widgets/base",
            "top": null,
            "grid_column": null,
            "overflow_y": null,
            "overflow_x": null,
            "grid_auto_flow": null,
            "grid_area": null,
            "grid_template_columns": null,
            "flex": null,
            "_model_name": "LayoutModel",
            "justify_items": null,
            "grid_row": null,
            "max_height": null,
            "align_content": null,
            "visibility": null,
            "align_self": null,
            "height": null,
            "min_height": null,
            "padding": null,
            "grid_auto_rows": null,
            "grid_gap": null,
            "max_width": null,
            "order": null,
            "_view_module_version": "1.2.0",
            "grid_template_areas": null,
            "object_position": null,
            "object_fit": null,
            "grid_auto_columns": null,
            "margin": null,
            "display": null,
            "left": null
          }
        },
        "353bda5f93794fca82adf2569c47059f": {
          "model_module": "@jupyter-widgets/controls",
          "model_name": "ProgressStyleModel",
          "state": {
            "_view_name": "StyleView",
            "_model_name": "ProgressStyleModel",
            "description_width": "",
            "_view_module": "@jupyter-widgets/base",
            "_model_module_version": "1.5.0",
            "_view_count": null,
            "_view_module_version": "1.2.0",
            "bar_color": null,
            "_model_module": "@jupyter-widgets/controls"
          }
        },
        "9cdfcf94c1864c15996f374537559f0a": {
          "model_module": "@jupyter-widgets/base",
          "model_name": "LayoutModel",
          "state": {
            "_view_name": "LayoutView",
            "grid_template_rows": null,
            "right": null,
            "justify_content": null,
            "_view_module": "@jupyter-widgets/base",
            "overflow": null,
            "_model_module_version": "1.2.0",
            "_view_count": null,
            "flex_flow": null,
            "width": null,
            "min_width": null,
            "border": null,
            "align_items": null,
            "bottom": null,
            "_model_module": "@jupyter-widgets/base",
            "top": null,
            "grid_column": null,
            "overflow_y": null,
            "overflow_x": null,
            "grid_auto_flow": null,
            "grid_area": null,
            "grid_template_columns": null,
            "flex": null,
            "_model_name": "LayoutModel",
            "justify_items": null,
            "grid_row": null,
            "max_height": null,
            "align_content": null,
            "visibility": null,
            "align_self": null,
            "height": null,
            "min_height": null,
            "padding": null,
            "grid_auto_rows": null,
            "grid_gap": null,
            "max_width": null,
            "order": null,
            "_view_module_version": "1.2.0",
            "grid_template_areas": null,
            "object_position": null,
            "object_fit": null,
            "grid_auto_columns": null,
            "margin": null,
            "display": null,
            "left": null
          }
        },
        "0a5127ffedb64471afa08674a7f4d2c6": {
          "model_module": "@jupyter-widgets/controls",
          "model_name": "DescriptionStyleModel",
          "state": {
            "_view_name": "StyleView",
            "_model_name": "DescriptionStyleModel",
            "description_width": "",
            "_view_module": "@jupyter-widgets/base",
            "_model_module_version": "1.5.0",
            "_view_count": null,
            "_view_module_version": "1.2.0",
            "_model_module": "@jupyter-widgets/controls"
          }
        },
        "60fd116b93a84209b5fe313bc7b0686a": {
          "model_module": "@jupyter-widgets/base",
          "model_name": "LayoutModel",
          "state": {
            "_view_name": "LayoutView",
            "grid_template_rows": null,
            "right": null,
            "justify_content": null,
            "_view_module": "@jupyter-widgets/base",
            "overflow": null,
            "_model_module_version": "1.2.0",
            "_view_count": null,
            "flex_flow": null,
            "width": null,
            "min_width": null,
            "border": null,
            "align_items": null,
            "bottom": null,
            "_model_module": "@jupyter-widgets/base",
            "top": null,
            "grid_column": null,
            "overflow_y": null,
            "overflow_x": null,
            "grid_auto_flow": null,
            "grid_area": null,
            "grid_template_columns": null,
            "flex": null,
            "_model_name": "LayoutModel",
            "justify_items": null,
            "grid_row": null,
            "max_height": null,
            "align_content": null,
            "visibility": null,
            "align_self": null,
            "height": null,
            "min_height": null,
            "padding": null,
            "grid_auto_rows": null,
            "grid_gap": null,
            "max_width": null,
            "order": null,
            "_view_module_version": "1.2.0",
            "grid_template_areas": null,
            "object_position": null,
            "object_fit": null,
            "grid_auto_columns": null,
            "margin": null,
            "display": null,
            "left": null
          }
        }
      }
    }
  },
  "cells": [
    {
      "cell_type": "markdown",
      "metadata": {
        "id": "HLmAUmqDV-lU"
      },
      "source": [
        "## Installing dependencies"
      ]
    },
    {
      "cell_type": "code",
      "metadata": {
        "id": "ThuzCnElwutN"
      },
      "source": [
        "!pip install nes-py > /dev/null\n",
        "!pip install gym-super-mario-bros > /dev/null"
      ],
      "execution_count": 1,
      "outputs": []
    },
    {
      "cell_type": "markdown",
      "metadata": {
        "id": "bRxmpgh4WBeJ"
      },
      "source": [
        "## Imports"
      ]
    },
    {
      "cell_type": "code",
      "metadata": {
        "colab": {
          "base_uri": "https://localhost:8080/"
        },
        "id": "H9ODf6cLrwEY",
        "outputId": "4987d691-05d5-45b0-f96d-69656923b692"
      },
      "source": [
        "from google.colab import drive\n",
        "drive.mount('/content/drive')"
      ],
      "execution_count": null,
      "outputs": [
        {
          "output_type": "stream",
          "text": [
            "Mounted at /content/drive\n"
          ],
          "name": "stdout"
        }
      ]
    },
    {
      "cell_type": "code",
      "metadata": {
        "id": "ejdzd4SKwtBa"
      },
      "source": [
        "from abc import abstractmethod\n",
        "from functools import reduce\n",
        "import matplotlib.pyplot as plt\n",
        "import numpy as np\n",
        "import operator\n",
        "import os\n",
        "import pandas as pd\n",
        "import pickle\n",
        "from statistics import mean\n",
        "from typing import List, Tuple, Union, Optional, NamedTuple\n",
        "from tqdm import tqdm, trange\n",
        "from tqdm.notebook import tqdm as tqdm_notebook\n",
        "\n",
        "from nes_py.wrappers import JoypadSpace\n",
        "\n",
        "from torch import nn\n",
        "import torch\n",
        "\n",
        "import gym\n",
        "from nes_py.wrappers import JoypadSpace\n",
        "import gym_super_mario_bros\n",
        "from gym_super_mario_bros.actions import SIMPLE_MOVEMENT\n",
        "from gym_super_mario_bros.smb_env import SuperMarioBrosEnv"
      ],
      "execution_count": null,
      "outputs": []
    },
    {
      "cell_type": "markdown",
      "metadata": {
        "id": "IPRPE0jNWDTq"
      },
      "source": [
        "## Definitions"
      ]
    },
    {
      "cell_type": "code",
      "metadata": {
        "id": "GjGoSbAsxNMF"
      },
      "source": [
        "class Individual(NamedTuple('Individual', (\n",
        "    ('weights', torch.Tensor),\n",
        "    ))):\n",
        "    def __copy__(self):\n",
        "        return Individual(self.weights.copy())\n"
      ],
      "execution_count": null,
      "outputs": []
    },
    {
      "cell_type": "code",
      "metadata": {
        "id": "h2_CGWhQxIbz"
      },
      "source": [
        "device = 'cuda' if torch.cuda.is_available() else 'cpu'\n",
        "\n",
        "\n",
        "class Network(nn.Module):\n",
        "    def __init__(self, layers: nn.Module) -> None:\n",
        "        super(Network, self).__init__()\n",
        "        self.layers = layers\n",
        "\n",
        "    def forward(self, state: torch.Tensor) -> int:\n",
        "        output = self.layers.forward(state.view(1, 3, 240, 256))\n",
        "        return torch.argmax(output).item()\n",
        "\n",
        "    def set_weights(self, weights: torch.Tensor) -> None:\n",
        "        cpt = 0\n",
        "        for param in self.parameters():\n",
        "            tmp = reduce(operator.mul, param.size())\n",
        "\n",
        "            param.data.copy_(weights[cpt:cpt + tmp].view(param.size()).to(device))\n",
        "            cpt += tmp\n",
        "\n",
        "    def get_weights(self) -> Individual:\n",
        "        return Individual(weights=torch.hstack([v.flatten() for v in self.parameters()]))\n"
      ],
      "execution_count": null,
      "outputs": []
    },
    {
      "cell_type": "code",
      "metadata": {
        "id": "htRhyzq0xBoe"
      },
      "source": [
        "class EvolutionaryAlgorithm:\n",
        "\n",
        "    def __init__(\n",
        "        self,\n",
        "        env: JoypadSpace,\n",
        "        network: Network,\n",
        "        population_size: int,\n",
        "        individual_len: int,\n",
        "        eval_maps: int,\n",
        "        eval_iters: int,\n",
        "        max_iters: int,\n",
        "    ) -> None:\n",
        "        self.env = env\n",
        "        self.population_size = population_size\n",
        "        self.individual_len = individual_len\n",
        "        self.eval_maps = eval_maps\n",
        "        self.eval_iters = eval_iters\n",
        "        self.max_iters = max_iters\n",
        "        self.history_df = pd.DataFrame(columns=['iteration', 'min eval', 'mean eval', 'max eval'])\n",
        "        self.network = network\n",
        "\n",
        "        rom_mode = 'vanilla'  # The default one\n",
        "        # Code from SuperMarioBrosRandomStagesEnv\n",
        "        self.envs = []\n",
        "        for world in range(1, 9):\n",
        "            # append a new list to put this world's stages into\n",
        "            self.envs.append([])\n",
        "            # iterate over the stages in the world, i.e., {1, ..., 4}\n",
        "            for stage in range(1, 5):\n",
        "                # create the target as a tuple of the world and stage\n",
        "                target = (world, stage)\n",
        "                # create the environment with the given ROM mode\n",
        "                env = SuperMarioBrosEnv(rom_mode=rom_mode, target=target)\n",
        "                # add the environment to the stage list for this world\n",
        "                self.envs[-1].append(env)\n",
        "    \n",
        "    @abstractmethod\n",
        "    def random_population(self) -> List[Individual]:\n",
        "        raise NotImplementedError()\n",
        "\n",
        "    def evaluate(\n",
        "        self, \n",
        "        individuals: List[Individual], \n",
        "        world_stages_tuples: Optional[List[Tuple[int, int]]]=None,\n",
        "    ) -> List[int]:\n",
        "        population_evals = np.zeros((len(individuals), self.eval_maps))\n",
        "\n",
        "        if world_stages_tuples is None:\n",
        "            world_idxs = np.random.choice(8, self.eval_maps, replace=False)\n",
        "            stages_idxs = np.random.choice(4, self.eval_maps, replace=True)\n",
        "            world_stages_tuples = list(zip(world_idxs, stages_idxs))\n",
        "\n",
        "        for i, individual in tqdm_notebook(enumerate(individuals), desc='Evaluating', leave=False, total=len(individuals)):\n",
        "            ind_evals = self._evaluate_individual(individual, world_stages_tuples)\n",
        "            population_evals[i] = ind_evals\n",
        "\n",
        "        mean_world_evals = np.mean(population_evals, axis=0)\n",
        "        norm_mean_world_evals = mean_world_evals / sum(mean_world_evals)\n",
        "        world_eval_weights = (1 - norm_mean_world_evals) / sum(1 - norm_mean_world_evals)\n",
        "        return (population_evals * world_eval_weights).sum(axis=1)\n",
        "\n",
        "    def _evaluate_individual(\n",
        "        self, \n",
        "        individual: Individual, \n",
        "        world_stages_tuples: List[Tuple[int, int]],\n",
        "        max_iters=None,    \n",
        "    ) -> List[int]:\n",
        "        if max_iters is None:\n",
        "            max_iters = self.eval_iters\n",
        "        \n",
        "        self.network.set_weights(individual.weights)\n",
        "        cumulative_rewards = []\n",
        "\n",
        "        for world, stage in world_stages_tuples:\n",
        "            # Hack for setting the enviroment to the selected world.\n",
        "            self.env.env = self.envs[world][stage]\n",
        "            # Need to be set before calling env.step, but wasn't as we didn't call env.reset directly.\n",
        "            self.env._elapsed_steps = 0\n",
        "            state = self.env.env.reset()\n",
        "\n",
        "            current_cumulative_reward = 0\n",
        "\n",
        "            for _ in range(max_iters):\n",
        "                action = self.network.forward(torch.Tensor(state.copy()).to(device))\n",
        "\n",
        "                state, reward, done, info = self.env.step(action)\n",
        "                current_cumulative_reward += reward\n",
        "                if done:\n",
        "                    break\n",
        "            \n",
        "            cumulative_rewards.append(current_cumulative_reward)\n",
        "        \n",
        "        return cumulative_rewards\n",
        "\n",
        "    @abstractmethod\n",
        "    def mutate(self, parents: List[Individual]) -> List[Individual]:\n",
        "        raise NotImplementedError()\n",
        "\n",
        "    @abstractmethod\n",
        "    def crossover(self, ind_1: Individual, ind_2: Individual) -> List[Individual]:\n",
        "        raise NotImplementedError()\n",
        "\n",
        "    @abstractmethod\n",
        "    def selection(\n",
        "        self,\n",
        "        population: List[Individual],\n",
        "        population_evals: List[int],\n",
        "        children: List[Individual],\n",
        "        children_evals: List[int]\n",
        "    ) -> Tuple[List[Individual], List[int]]:\n",
        "        raise NotImplementedError()\n",
        "\n",
        "    @abstractmethod\n",
        "    def parent_selection(self, population: List[Individual], evals: List[int]) -> List[Individual]:\n",
        "        raise NotImplementedError()\n",
        "    \n",
        "    def run(self) -> None:\n",
        "        best_eval = -1e5\n",
        "        best_at_it = -1\n",
        "\n",
        "        population = self.random_population()\n",
        "        \n",
        "        pbar = tqdm_notebook(total=self.max_iters, desc='Training', position=0, leave=True)\n",
        "        \n",
        "        try:\n",
        "            for it in range(self.max_iters):\n",
        "                evals = self.evaluate(individuals=population)\n",
        "\n",
        "                parents = self.parent_selection(population=population, evals=evals)\n",
        "                \n",
        "                children = self.mutate(parents)\n",
        "                children_evals = self.evaluate(individuals=children)\n",
        "\n",
        "                population, evals = self.selection(\n",
        "                    population=population,\n",
        "                    population_evals=evals,\n",
        "                    children=children,\n",
        "                    children_evals=children_evals,\n",
        "                )\n",
        "\n",
        "                self.history_df.loc[len(self.history_df)] = [it, min(evals), mean(evals), max(evals)]\n",
        "                \n",
        "                if max(evals) > best_eval:\n",
        "                    best_at_it = it\n",
        "                    best_eval = max(evals)\n",
        "\n",
        "                pbar.desc = f'Training (evals: {min(evals)} | {mean(evals)} | {max(evals)}, best at: {best_at_it} it)'\n",
        "                pbar.update(1)\n",
        "        except KeyboardInterrupt:\n",
        "            pass\n",
        "\n",
        "        pbar.close()\n"
      ],
      "execution_count": null,
      "outputs": []
    },
    {
      "cell_type": "code",
      "metadata": {
        "id": "hVuwSg-L1m-K"
      },
      "source": [
        "class CEM(EvolutionaryAlgorithm):\n",
        "    \n",
        "    def __init__(\n",
        "        self, \n",
        "        env, \n",
        "        network, \n",
        "        individual_len, \n",
        "        max_iters, \n",
        "        eval_maps, \n",
        "        eval_iters, \n",
        "        sigma_st, \n",
        "        sigma_end, \n",
        "        tau, \n",
        "        epsilon,\n",
        "        population_size,\n",
        "        save_name,\n",
        "        elitist=None, \n",
        "        batch_size=100,\n",
        "        evalutate_world_stage_tuples: Optional[List[Tuple[int, int]]]=None,\n",
        "        eval_best_on_all:bool=True\n",
        "    ):\n",
        "        super().__init__(env, network, population_size, individual_len, eval_maps, eval_iters, max_iters)\n",
        "        self.sigma_st = sigma_st\n",
        "        self.sigma_end = sigma_end\n",
        "        self.tau = tau\n",
        "        self.epsilon = epsilon\n",
        "        self.elitist = elitist\n",
        "        self.batch_size = batch_size\n",
        "        self.evalutate_world_stage_tuples = evalutate_world_stage_tuples\n",
        "        \n",
        "        if self.elitist is None:\n",
        "            self.elitist = int(self.population_size//2)\n",
        "        \n",
        "        self.params_df = pd.DataFrame({'iteration':[], 'mean sigma': [], 'max sigma': []})\n",
        "        self.history_df = pd.DataFrame(columns=['iteration', 'min eval', 'mean eval', 'max eval', 'evals for best from iter', 'best from iter'])\n",
        "        self.save_name = save_name\n",
        "        self.eval_best_on_all = eval_best_on_all\n",
        "\n",
        "    def _draw_population(self, mu: float, sigma: torch.Tensor) -> List[Individual]:\n",
        "        pop = [None] * self.population_size\n",
        "        for i in range(self.population_size):\n",
        "            pop[i] = Individual(weights=torch.normal(mu, torch.sqrt(sigma)).to(device))\n",
        "        return pop\n",
        "    \n",
        "        \n",
        "    def find_evals_for_best(self, best_individual: Individual) -> List[int]:\n",
        "        evals = []\n",
        "        all_world_stages_tuples = [(world, stage) for world in range(0, 8) for stage in range(0, 4)]\n",
        "        if self.eval_best_on_all is False and self.evalutate_world_stage_tuples is not None:\n",
        "            all_world_stages_tuples = list(filter(lambda ws: ws not in self.evalutate_world_stage_tuples, all_world_stages_tuples))\n",
        "        \n",
        "        for world_stage in tqdm_notebook(all_world_stages_tuples, desc='Finding all evals for best', leave=False):\n",
        "            eval = self._evaluate_individual(best_individual,[world_stage], max_iters=self.eval_iters)\n",
        "            evals.append(eval)\n",
        "        return evals\n",
        "        \n",
        "    \n",
        "    def run(self):\n",
        "        mu = torch.ones(self.individual_len).to(device)\n",
        "        sigma = self.sigma_st.to(device)\n",
        "        epsilon = self.epsilon\n",
        "        \n",
        "        total_steps = actor_steps = 0\n",
        "        \n",
        "        best, best_eval, best_at_it = None, -np.inf, -1\n",
        "\n",
        "        pbar = tqdm_notebook(total=self.max_iters, desc='Training', position=0, leave=True)\n",
        "\n",
        "        start_it = 0\n",
        "\n",
        "        if device == 'cuda':\n",
        "            saved_cem_path = f'{self.save_name}.pkl'\n",
        "        else:\n",
        "            saved_cem_path = f'{self.save_name}_cpu.pkl'\n",
        "\n",
        "        if os.path.exists(saved_cem_path):\n",
        "            saved_cem = pickle.load(open(saved_cem_path, 'rb'))\n",
        "            start_it = saved_cem['iteration']\n",
        "            mu = saved_cem['params']['mu']\n",
        "            sigma = saved_cem['params']['sigma']\n",
        "            epsilon = saved_cem['params']['epsilon']\n",
        "\n",
        "            best, best_eval = saved_cem['best'], saved_cem['best_eval']\n",
        "\n",
        "            self.history_df = saved_cem['history_df']\n",
        "            self.params_df = saved_cem['params_df']\n",
        "\n",
        "            pbar.update(start_it)\n",
        "        else:\n",
        "            path_splited = saved_cem_path.split('_')\n",
        "            prev_path_splited = path_splited\n",
        "            prev_path_splited[3] = str(int(path_splited[3]) - 1)\n",
        "            prev_path = '_'.join(prev_path_splited)\n",
        "            saved_cem = pickle.load(open(prev_path, 'rb'))\n",
        "            start_it = saved_cem['iteration']\n",
        "            mu = saved_cem['params']['mu']\n",
        "            sigma = saved_cem['params']['sigma']\n",
        "            epsilon = saved_cem['params']['epsilon']\n",
        "\n",
        "            best, best_eval = saved_cem['best'], saved_cem['best_eval']\n",
        "\n",
        "            self.history_df.loc[0] = saved_cem['history_df'].iloc[-1]\n",
        "            self.params_df.loc[0] = saved_cem['params_df'].iloc[-1]\n",
        "\n",
        "            pbar.update(start_it)\n",
        "        \n",
        "        for it in range(start_it, self.max_iters):\n",
        "            population = self._draw_population(mu, sigma)\n",
        "            \n",
        "            evals = self.evaluate(population)\n",
        "\n",
        "            evals = np.array(evals)\n",
        "\n",
        "            best_ind = population[np.argmax(evals)]\n",
        "\n",
        "            evals_for_best = self.find_evals_for_best(best_ind)\n",
        "            \n",
        "            if evals.max() > best_eval:\n",
        "                best, best_eval, best_at_it = best_ind, evals.max(), it\n",
        "            \n",
        "            self.history_df.loc[it] = [it, evals.min(), evals.mean(), evals.max(), evals_for_best, best_ind.weights]\n",
        "            self.params_df.loc[it] = [it, sigma.mean().item(), sigma.max().item()]\n",
        "\n",
        "            to_write = {\n",
        "                'iteration': it,\n",
        "                'params': {'mu': mu, 'sigma': sigma, 'epsilon': epsilon},\n",
        "                'population': population,\n",
        "                'best': best,\n",
        "                'best_eval': best_eval,\n",
        "                'history_df': self.history_df,\n",
        "                'params_df': self.params_df,\n",
        "            }\n",
        "            pickle.dump(to_write, open(saved_cem_path, 'w+b'), \n",
        "                        pickle.HIGHEST_PROTOCOL)\n",
        "            \n",
        "\n",
        "            mu, sigma, epsilon = self._update_params(population, evals, mu, sigma, epsilon)\n",
        "            \n",
        "\n",
        "            pbar.desc = f'Training (evals: {evals.min()} | {evals.mean()} | {evals.max()}, best at: {best_at_it} it)'\n",
        "            pbar.update(1)\n",
        "            \n",
        "        to_write = {\n",
        "            'iteration': it,\n",
        "            'params': {'mu': mu, 'sigma': sigma, 'epsilon': epsilon},\n",
        "            'population': population,\n",
        "            'best': best,\n",
        "            'best_eval': best_eval,\n",
        "            'history_df': self.history_df,\n",
        "            'params_df': self.params_df,\n",
        "        }\n",
        "        pickle.dump(to_write, open(saved_cem_path, 'w+b'), \n",
        "                    pickle.HIGHEST_PROTOCOL)\n",
        "            \n",
        "        return best\n",
        "                \n",
        "    \n",
        "    def _update_params(self, pop, evals, old_mu, old_sigma, epsilon):\n",
        "        lambdas = torch.Tensor([torch.log(torch.Tensor([1+self.elitist]))/(1+i) for i in range(self.elitist)]).reshape(-1, 1).to(device)\n",
        "        lambdas /= (lambdas.sum()+1e-10)\n",
        "        idxs = np.argsort(evals)[::-1][:self.elitist]\n",
        "        z = []\n",
        "        for idx in idxs:\n",
        "            z.append(pop[idx].weights)\n",
        "        z = torch.stack(z)\n",
        "        \n",
        "        mu = torch.sum(torch.Tensor([list(lambdas[i]*z[i]) for i in range(self.elitist)]), dim=0)\n",
        "        sigma = torch.sum(torch.Tensor([list(lambdas[i]*(z[i] - old_mu)**2) for i in range(self.elitist)]), dim=0)\n",
        "        sigma += epsilon\n",
        "        sigma = torch.clip(sigma, 0.4, 20)\n",
        "\n",
        "        epsilon = self.tau*epsilon + (1-self.tau)*(self.sigma_end.mean())\n",
        "        return mu, sigma, epsilon"
      ],
      "execution_count": null,
      "outputs": []
    },
    {
      "cell_type": "markdown",
      "metadata": {
        "id": "hy_4in9CWIaR"
      },
      "source": [
        "## Initialization"
      ]
    },
    {
      "cell_type": "code",
      "metadata": {
        "colab": {
          "base_uri": "https://localhost:8080/"
        },
        "id": "tYZ3siET8stf",
        "outputId": "42f88a32-d107-4a46-b8e6-5fc97183611c"
      },
      "source": [
        "%cd drive/My\\ Drive/mario_bros_neuroevolution"
      ],
      "execution_count": null,
      "outputs": [
        {
          "output_type": "stream",
          "text": [
            "/content/drive/My Drive/mario_bros_neuroevolution\n"
          ],
          "name": "stdout"
        }
      ]
    },
    {
      "cell_type": "code",
      "metadata": {
        "id": "TEjFQPuwxRKe"
      },
      "source": [
        "env = gym_super_mario_bros.make('SuperMarioBrosRandomStages-v0')\n",
        "\n",
        "env = JoypadSpace(env, SIMPLE_MOVEMENT)"
      ],
      "execution_count": null,
      "outputs": []
    },
    {
      "cell_type": "code",
      "metadata": {
        "id": "347cQs66E9r_"
      },
      "source": [
        "network = Network(layers=nn.Sequential(\n",
        "    nn.Conv2d(3, 32, kernel_size=8, stride=4),\n",
        "    nn.ReLU(),\n",
        "    nn.Conv2d(32, 64, kernel_size=4, stride=2),\n",
        "    nn.ReLU(),\n",
        "    nn.Conv2d(64, 64, kernel_size=3, stride=1),\n",
        "    nn.ReLU(),\n",
        "\n",
        "    nn.Flatten(),\n",
        "    nn.Linear(46592, 7),\n",
        ")).to(device)"
      ],
      "execution_count": null,
      "outputs": []
    },
    {
      "cell_type": "markdown",
      "metadata": {
        "id": "SwBEc94T_qv-"
      },
      "source": [
        "## Experiments"
      ]
    },
    {
      "cell_type": "code",
      "metadata": {
        "id": "3LLuXZXtRDba"
      },
      "source": [
        "POPULATION_SIZE = 200\n",
        "INDIVIDUAL_LEN = 75936+326144+7\n",
        "MAX_ITERS = 1000\n",
        "\n",
        "agent = CEM(\n",
        "    env=env,\n",
        "    network=network,\n",
        "    population_size=POPULATION_SIZE,\n",
        "    elitist=int(POPULATION_SIZE // 4),\n",
        "    individual_len=INDIVIDUAL_LEN,\n",
        "    eval_maps=8,\n",
        "    eval_iters=500,\n",
        "    max_iters=MAX_ITERS,\n",
        "    sigma_st=torch.full(torch.Size([INDIVIDUAL_LEN]), 15, dtype=torch.float32),\n",
        "    sigma_end=torch.full(torch.Size([INDIVIDUAL_LEN]), 1e-3,dtype=torch.float32),\n",
        "    tau=0.99,\n",
        "    epsilon=5,\n",
        "    save_name='saved_cem_5_3',\n",
        "    eval_best_on_all=True,\n",
        ")"
      ],
      "execution_count": null,
      "outputs": []
    },
    {
      "cell_type": "code",
      "metadata": {
        "id": "r32DmVrnRdGj",
        "colab": {
          "base_uri": "https://localhost:8080/",
          "height": 81,
          "referenced_widgets": [
            "7847560d74cb4b5c976d0b37a85488d4",
            "76dbdd9ff36241c5bd784998431d301c",
            "fa044e07b3a2492e8db71ee3e3e46d0c",
            "f71b3accc3564d4dac78ccd7dca68a5f",
            "cd4d3ecc59c044bd82b10b6fb9b4b3dd",
            "6fd7e82ba58549a28bc6c97f318b5405",
            "8c7e5a6d15e1499b827a2594b97b022d",
            "fcb3be25c1cf4293885052ef4e36c566",
            "92624dccbde04cbdba2ee910f2f70caa",
            "7b12531b0540455c885276f50187c097",
            "3eae198ce423424bb635b717ac9f34a5",
            "a308784fd714430c97a1d62e5830c862",
            "6ffb260d401c4528b8f8b1347fddd012",
            "89c5705db81f481daa51f313a57d9b46",
            "e1b877d657784421a2e22080413bc7a4",
            "d4bd5b4e6d044f4fb125c711d1a06006",
            "8eb206de16ef4dd08ce4a335e17f195c",
            "5e71393d215c4636a8a9a904c2f40de9",
            "353bda5f93794fca82adf2569c47059f",
            "9cdfcf94c1864c15996f374537559f0a",
            "0a5127ffedb64471afa08674a7f4d2c6",
            "60fd116b93a84209b5fe313bc7b0686a"
          ]
        },
        "outputId": "071be0ec-ede7-445a-8ec6-8ce4489a0fe2"
      },
      "source": [
        "try:\n",
        "    agent.run()\n",
        "except KeyboardInterrupt:\n",
        "    pass"
      ],
      "execution_count": null,
      "outputs": [
        {
          "output_type": "display_data",
          "data": {
            "application/vnd.jupyter.widget-view+json": {
              "model_id": "7847560d74cb4b5c976d0b37a85488d4",
              "version_minor": 0,
              "version_major": 2
            },
            "text/plain": [
              "Training:   0%|          | 0/1000 [00:00<?, ?it/s]"
            ]
          },
          "metadata": {
            "tags": []
          }
        },
        {
          "output_type": "display_data",
          "data": {
            "application/vnd.jupyter.widget-view+json": {
              "model_id": "a308784fd714430c97a1d62e5830c862",
              "version_minor": 0,
              "version_major": 2
            },
            "text/plain": [
              "Evaluating:   0%|          | 0/200 [00:00<?, ?it/s]"
            ]
          },
          "metadata": {
            "tags": []
          }
        }
      ]
    },
    {
      "cell_type": "code",
      "metadata": {
        "colab": {
          "base_uri": "https://localhost:8080/"
        },
        "id": "jtoMeVISoYzd",
        "outputId": "8293a660-f4bb-4c4f-82a9-fdaa11e76fec"
      },
      "source": [
        "min_evals = pd.Series([])\n",
        "mean_evals = pd.Series([])\n",
        "max_evals = pd.Series([])\n",
        "\n",
        "all_eval = pd.Series([])\n",
        "\n",
        "filenames = [f'saved_cem_5_{suffix}cpu.pkl' for suffix in ['', '_1_', '_2_', '_3_', '_4_']]\n",
        "for filename in filenames:\n",
        "    s = pickle.load(open(filename, 'rb'))\n",
        "    min_evals = min_evals.append(s['history_df']['min eval'])\n",
        "    mean_evals = mean_evals.append(s['history_df']['mean eval'])\n",
        "    max_evals = max_evals.append(s['history_df']['max eval'])\n",
        "\n",
        "    control_evals = s['history_df']['evals for best from iter']\n",
        "    control_evals = np.array([[x[0] for x in level_evals] for level_evals in control_evals])\n",
        "\n",
        "    all_eval = all_eval.append(pd.Series(control_evals.mean(axis=1)))"
      ],
      "execution_count": null,
      "outputs": [
        {
          "output_type": "stream",
          "text": [
            "/usr/local/lib/python3.6/dist-packages/ipykernel_launcher.py:2: DeprecationWarning: The default dtype for empty Series will be 'object' instead of 'float64' in a future version. Specify a dtype explicitly to silence this warning.\n",
            "  \n",
            "/usr/local/lib/python3.6/dist-packages/ipykernel_launcher.py:3: DeprecationWarning: The default dtype for empty Series will be 'object' instead of 'float64' in a future version. Specify a dtype explicitly to silence this warning.\n",
            "  This is separate from the ipykernel package so we can avoid doing imports until\n",
            "/usr/local/lib/python3.6/dist-packages/ipykernel_launcher.py:4: DeprecationWarning: The default dtype for empty Series will be 'object' instead of 'float64' in a future version. Specify a dtype explicitly to silence this warning.\n",
            "  after removing the cwd from sys.path.\n",
            "/usr/local/lib/python3.6/dist-packages/ipykernel_launcher.py:6: DeprecationWarning: The default dtype for empty Series will be 'object' instead of 'float64' in a future version. Specify a dtype explicitly to silence this warning.\n",
            "  \n"
          ],
          "name": "stderr"
        }
      ]
    },
    {
      "cell_type": "code",
      "metadata": {
        "colab": {
          "base_uri": "https://localhost:8080/",
          "height": 442
        },
        "id": "Ry3P-wwyozaS",
        "outputId": "2d80016a-f5b5-40e8-bff5-39926124c1e3"
      },
      "source": [
        "plt.figure(figsize=(10, 7))\n",
        "plt.title('Rolling average of 15 iteration for fitness function scores')\n",
        "plt.plot(list(min_evals.rolling(15).mean().values), c='r', label='Minimum eval')\n",
        "plt.plot(list(mean_evals.rolling(15).mean().values), c='b', label='Mean eval')\n",
        "plt.plot(list(max_evals.rolling(15).mean().values), c='g', label='Maximum eval')\n",
        "plt.xlabel('Iteration')\n",
        "plt.ylabel('Fitness value')\n",
        "plt.legend()"
      ],
      "execution_count": null,
      "outputs": [
        {
          "output_type": "display_data",
          "data": {
            "image/png": "[encoded data removed]",
            "text/plain": [
              "<Figure size 720x504 with 1 Axes>"
            ]
          },
          "metadata": {
            "tags": [],
            "needs_background": "light"
          }
        }
      ]
    },
    {
      "cell_type": "code",
      "metadata": {
        "colab": {
          "base_uri": "https://localhost:8080/",
          "height": 442
        },
        "id": "LHh6f_16xrGt",
        "outputId": "261cc1ce-bbb6-4009-c8f0-fddffc7ec416"
      },
      "source": [
        "plt.figure(figsize=(10, 7))\n",
        "plt.title('Rolling average of 15 iteration for score on all levels of the best individual')\n",
        "plt.plot(list(all_eval.rolling(15).mean().values))\n",
        "plt.xlabel('Iteration')\n",
        "plt.ylabel('Fitness value')"
      ],
      "execution_count": null,
      "outputs": [
        {
          "output_type": "display_data",
          "data": {
            "image/png": "[encoded data removed]",
            "text/plain": [
              "<Figure size 720x504 with 1 Axes>"
            ]
          },
          "metadata": {
            "tags": [],
            "needs_background": "light"
          }
        }
      ]
    }
  ]
}